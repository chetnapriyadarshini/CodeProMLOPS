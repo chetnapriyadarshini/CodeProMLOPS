{
 "cells": [
  {
   "cell_type": "code",
   "execution_count": 1,
   "id": "4bb8ad33-4fbc-4fd4-a2d7-14f585016d2e",
   "metadata": {},
   "outputs": [],
   "source": [
    "import utils\n",
    "# ignore the warnings in the output\n",
    "import warnings\n",
    "warnings.filterwarnings(\"ignore\")\n",
    "import test_with_pytest"
   ]
  },
  {
   "cell_type": "code",
   "execution_count": 2,
   "id": "96e2b735-4010-4534-901f-dbee40c3e9c4",
   "metadata": {},
   "outputs": [
    {
     "name": "stdout",
     "output_type": "stream",
     "text": [
      "Creating Database\n",
      "New DB Created\n"
     ]
    },
    {
     "data": {
      "text/plain": [
       "'DB Created'"
      ]
     },
     "execution_count": 2,
     "metadata": {},
     "output_type": "execute_result"
    }
   ],
   "source": [
    "utils.build_dbs()"
   ]
  },
  {
   "cell_type": "code",
   "execution_count": 3,
   "id": "d65be130-060c-498c-b998-dcbb9129c7c3",
   "metadata": {},
   "outputs": [],
   "source": [
    "utils.load_data_into_db()"
   ]
  },
  {
   "cell_type": "code",
   "execution_count": 4,
   "id": "1369fb7c-05d1-42f8-8550-92c41a05c2b6",
   "metadata": {},
   "outputs": [],
   "source": [
    "utils.map_city_tier()"
   ]
  },
  {
   "cell_type": "code",
   "execution_count": 5,
   "id": "84894a87-af52-42d9-8877-31d3b0240c6f",
   "metadata": {},
   "outputs": [],
   "source": [
    "utils.map_categorical_vars()"
   ]
  },
  {
   "cell_type": "code",
   "execution_count": 6,
   "id": "e3e7f768-847d-4f08-9941-f2a4fad48870",
   "metadata": {},
   "outputs": [],
   "source": [
    "utils.interactions_mapping()"
   ]
  },
  {
   "cell_type": "code",
   "execution_count": 7,
   "id": "d7a39bce-e356-452a-b428-7c0b8d320ab7",
   "metadata": {},
   "outputs": [
    {
     "name": "stdout",
     "output_type": "stream",
     "text": [
      "loaded_data_test_case\n"
     ]
    }
   ],
   "source": [
    "test_with_pytest.test_load_data_into_db()"
   ]
  },
  {
   "cell_type": "code",
   "execution_count": 8,
   "id": "0a81448c-0952-4363-89e1-9936e3d43e4b",
   "metadata": {},
   "outputs": [
    {
     "name": "stdout",
     "output_type": "stream",
     "text": [
      "city_tier_mapped_test_case\n"
     ]
    }
   ],
   "source": [
    "test_with_pytest.test_map_city_tier()"
   ]
  },
  {
   "cell_type": "code",
   "execution_count": 9,
   "id": "54f413bb-412e-4aa3-a133-f7560067fce6",
   "metadata": {},
   "outputs": [
    {
     "name": "stdout",
     "output_type": "stream",
     "text": [
      "categorical_variables_mapped_test_case\n"
     ]
    }
   ],
   "source": [
    "test_with_pytest.test_map_categorical_vars()"
   ]
  },
  {
   "cell_type": "code",
   "execution_count": 10,
   "id": "36a9a23f-bcfc-40e8-84db-1652a1851c65",
   "metadata": {},
   "outputs": [
    {
     "name": "stdout",
     "output_type": "stream",
     "text": [
      "interactions_mapped_test_case\n"
     ]
    }
   ],
   "source": [
    "test_with_pytest.test_interactions_mapping()"
   ]
  },
  {
   "cell_type": "code",
   "execution_count": null,
   "id": "19fa701a-bd4f-485a-91de-1cfd1fa7b288",
   "metadata": {},
   "outputs": [],
   "source": []
  },
  {
   "cell_type": "code",
   "execution_count": null,
   "id": "ea0b8bee-3b5d-406a-9658-855745d5070e",
   "metadata": {},
   "outputs": [],
   "source": []
  }
 ],
 "metadata": {
  "kernelspec": {
   "display_name": "Python 3 (ipykernel)",
   "language": "python",
   "name": "python3"
  },
  "language_info": {
   "codemirror_mode": {
    "name": "ipython",
    "version": 3
   },
   "file_extension": ".py",
   "mimetype": "text/x-python",
   "name": "python",
   "nbconvert_exporter": "python",
   "pygments_lexer": "ipython3",
   "version": "3.8.12"
  }
 },
 "nbformat": 4,
 "nbformat_minor": 5
}
